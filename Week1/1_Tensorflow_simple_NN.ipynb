{
 "cells": [
  {
   "cell_type": "markdown",
   "id": "060863b6",
   "metadata": {},
   "source": [
    "# Simple Neural Net using Tensorflow2"
   ]
  },
  {
   "cell_type": "markdown",
   "id": "141a72ca",
   "metadata": {},
   "source": [
    "### Import required packages"
   ]
  },
  {
   "cell_type": "code",
   "execution_count": null,
   "id": "589d13e0",
   "metadata": {},
   "outputs": [],
   "source": [
    "%matplotlib inline\n",
    "\n",
    "import numpy as np\n",
    "import matplotlib.pyplot as plt"
   ]
  },
  {
   "cell_type": "code",
   "execution_count": null,
   "id": "6257bb6b",
   "metadata": {},
   "outputs": [],
   "source": [
    "from tensorflow import keras\n",
    "import tensorflow as tf"
   ]
  },
  {
   "cell_type": "markdown",
   "id": "f824c946",
   "metadata": {},
   "source": [
    "### Dataset Generation"
   ]
  },
  {
   "cell_type": "code",
   "execution_count": null,
   "id": "fce11d3d",
   "metadata": {},
   "outputs": [],
   "source": [
    "# Parameters (y = a1*x1 + a2*x2 + a3*x1*x1 + a4*x2*x2 + a5*x1*x2 + b)\n",
    "a1 = 2.7\n",
    "a2 = 3.5\n",
    "a3 = 0.6\n",
    "a4 = 0.6\n",
    "a5 = -1.4\n",
    "b  = 2.0"
   ]
  },
  {
   "cell_type": "code",
   "execution_count": null,
   "id": "892f0137",
   "metadata": {},
   "outputs": [],
   "source": [
    "# Create noisy data\n",
    "x1_data = np.linspace(-10, 10, num=100000)\n",
    "\n",
    "x2_data = np.linspace(-10, 10, num=100000)\n",
    "\n",
    "y_data = a1 * x1_data + \\\n",
    "    a2 * x2_data + \\\n",
    "    a3 * x1_data * x1_data +\\\n",
    "    a4 * x1_data * x1_data +\\\n",
    "    a5 * x1_data * x1_data +\\\n",
    "    b +\\\n",
    "    np.random.normal(size=100000)"
   ]
  },
  {
   "cell_type": "code",
   "execution_count": null,
   "id": "54bcf72d",
   "metadata": {},
   "outputs": [],
   "source": [
    "x_data = []\n",
    "for x1,x2 in zip(x1_data,x2_data):\n",
    "    x_data.append([x1,x2])\n",
    "x_data = np.array(x_data)"
   ]
  },
  {
   "cell_type": "markdown",
   "id": "2d5ba612",
   "metadata": {},
   "source": [
    "### Build the neuralnet"
   ]
  },
  {
   "cell_type": "code",
   "execution_count": null,
   "id": "d9942532",
   "metadata": {},
   "outputs": [],
   "source": [
    "# Create the model \n",
    "model = keras.Sequential()\n",
    "\n",
    "model.add(keras.layers.InputLayer(input_shape=(2,)))\n",
    "model.add(keras.layers.Dense(units = 4, activation = 'relu'))\n",
    "model.add(keras.layers.Dense(units = 3, activation = 'relu'))\n",
    "model.add(keras.layers.Dense(units = 1, activation = 'linear'))"
   ]
  },
  {
   "cell_type": "code",
   "execution_count": null,
   "id": "2c1c8dbf",
   "metadata": {},
   "outputs": [],
   "source": [
    "# Define Loss and Optimizer\n",
    "\n",
    "# Stocastic Gradient Descent\n",
    "#model.compile(loss='mse', optimizer= keras.optimizers.SGD(learning_rate=1e-2))\n",
    "\n",
    "# Adam\n",
    "model.compile(loss='mse', optimizer= keras.optimizers.Adam(learning_rate=1e-3))"
   ]
  },
  {
   "cell_type": "code",
   "execution_count": null,
   "id": "e35c3b49",
   "metadata": {},
   "outputs": [],
   "source": [
    "# Display the model\n",
    "model.summary()"
   ]
  },
  {
   "cell_type": "code",
   "execution_count": null,
   "id": "42881450",
   "metadata": {},
   "outputs": [],
   "source": [
    "# Learn\n",
    "\n",
    "epochs = 10\n",
    "batch_size = 32\n",
    "\n",
    "model_returns = model.fit(x_data, y_data, epochs=epochs, batch_size=batch_size, verbose=1 )"
   ]
  },
  {
   "cell_type": "code",
   "execution_count": null,
   "id": "bb6a7937",
   "metadata": {},
   "outputs": [],
   "source": [
    "# Predict (compute) the output \n",
    "y_predicted = model.predict(x_data)\n",
    "y_predicted = y_predicted.squeeze()"
   ]
  },
  {
   "cell_type": "code",
   "execution_count": null,
   "id": "6a2811bc",
   "metadata": {},
   "outputs": [],
   "source": [
    "# Plot the data\n",
    "fig = plt.figure(figsize=(20, 10))\n",
    "\n",
    "ax = fig.add_subplot(1, 2, 1, projection='3d')\n",
    "ax.scatter3D(x1_data, x2_data, y_data, label=\"actual\", c='b')\n",
    "plt.legend()\n",
    "\n",
    "ax = fig.add_subplot(1, 2, 2, projection='3d')\n",
    "ax.scatter3D(x1_data, x2_data, y_predicted, label=\"predicted\", c='r')\n",
    "plt.legend()\n",
    "\n",
    "plt.show()"
   ]
  },
  {
   "cell_type": "markdown",
   "id": "fb32dbc0",
   "metadata": {},
   "source": [
    "#### To use GPU or CPU specifically"
   ]
  },
  {
   "cell_type": "code",
   "execution_count": null,
   "id": "3dcf3cf6",
   "metadata": {},
   "outputs": [],
   "source": [
    "## Get list of available devices\n",
    "from tensorflow.python.client import device_lib\n",
    "device_lib.list_local_devices()"
   ]
  },
  {
   "cell_type": "code",
   "execution_count": null,
   "id": "4cbc7acd",
   "metadata": {},
   "outputs": [],
   "source": [
    "## For GPU\n",
    "with tf.device('/gpu:0'):\n",
    "    model_returns = model.fit(x_data, y_data, epochs=10, verbose=1)\n",
    "\n",
    "with tf.device('/gpu:0'):\n",
    "    y_predicted = model.predict(x_data)"
   ]
  },
  {
   "cell_type": "code",
   "execution_count": null,
   "id": "faa93d55",
   "metadata": {},
   "outputs": [],
   "source": [
    "## For CPU\n",
    "with tf.device('/cpu:0'):\n",
    "    model_returns = model.fit(x_data, y_data, epochs=10, verbose=1)\n",
    "\n",
    "with tf.device('/cpu:0'):\n",
    "    y_predicted = model.predict(x_data)"
   ]
  }
 ],
 "metadata": {
  "kernelspec": {
   "display_name": "Python 3 (ipykernel)",
   "language": "python",
   "name": "python3"
  },
  "language_info": {
   "codemirror_mode": {
    "name": "ipython",
    "version": 3
   },
   "file_extension": ".py",
   "mimetype": "text/x-python",
   "name": "python",
   "nbconvert_exporter": "python",
   "pygments_lexer": "ipython3",
   "version": "3.9.7"
  }
 },
 "nbformat": 4,
 "nbformat_minor": 5
}
