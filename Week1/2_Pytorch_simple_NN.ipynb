{
 "cells": [
  {
   "cell_type": "markdown",
   "id": "1914193a",
   "metadata": {},
   "source": [
    "# Simple Neural Net using Pytorch"
   ]
  },
  {
   "cell_type": "markdown",
   "id": "5554ae5f",
   "metadata": {},
   "source": [
    "### Import required packages"
   ]
  },
  {
   "cell_type": "code",
   "execution_count": null,
   "id": "589d13e0",
   "metadata": {},
   "outputs": [],
   "source": [
    "%matplotlib inline\n",
    "\n",
    "import numpy as np\n",
    "import matplotlib.pyplot as plt"
   ]
  },
  {
   "cell_type": "code",
   "execution_count": null,
   "id": "21a65a5a",
   "metadata": {},
   "outputs": [],
   "source": [
    "import torch\n",
    "import torch.nn as nn\n",
    "import torch.nn.functional as F\n",
    "\n",
    "from tqdm.auto import tqdm\n",
    "#from tqdm import tqdm"
   ]
  },
  {
   "cell_type": "markdown",
   "id": "87c87e27",
   "metadata": {},
   "source": [
    "### Dataset Generation"
   ]
  },
  {
   "cell_type": "code",
   "execution_count": null,
   "id": "fce11d3d",
   "metadata": {},
   "outputs": [],
   "source": [
    "# Parameters (y = a1*x1 + a2*x2 + a3*x1*x1 + a4*x2*x2 + a5*x1*x2 + b)\n",
    "a1 = 2.7\n",
    "a2 = 3.5\n",
    "a3 = 0.6\n",
    "a4 = 0.6\n",
    "a5 = -1.4\n",
    "b  = 2.0"
   ]
  },
  {
   "cell_type": "code",
   "execution_count": null,
   "id": "892f0137",
   "metadata": {},
   "outputs": [],
   "source": [
    "# Create noisy data\n",
    "x1_data = np.linspace(-10, 10, num=100000)\n",
    "\n",
    "x2_data = np.linspace(-10, 10, num=100000)\n",
    "\n",
    "y_data = a1 * x1_data + \\\n",
    "    a2 * x2_data + \\\n",
    "    a3 * x1_data * x1_data +\\\n",
    "    a4 * x1_data * x1_data +\\\n",
    "    a5 * x1_data * x1_data +\\\n",
    "    b +\\\n",
    "    np.random.normal(size=100000)"
   ]
  },
  {
   "cell_type": "code",
   "execution_count": null,
   "id": "54bcf72d",
   "metadata": {},
   "outputs": [],
   "source": [
    "x_data = []\n",
    "for x1,x2 in zip(x1_data,x2_data):\n",
    "    x_data.append([x1,x2])\n",
    "x_data = np.array(x_data)"
   ]
  },
  {
   "cell_type": "markdown",
   "id": "5789654c",
   "metadata": {},
   "source": [
    "### Build the neuralnet"
   ]
  },
  {
   "cell_type": "code",
   "execution_count": null,
   "id": "d9942532",
   "metadata": {},
   "outputs": [],
   "source": [
    "class NeuralNetwork(nn.Module):\n",
    "    \n",
    "    def __init__(self):\n",
    "        \n",
    "        super(NeuralNetwork, self).__init__()\n",
    "        \n",
    "        self.layer1 = nn.Linear(2, 4)\n",
    "        self.layer2 = nn.Linear(4, 3)\n",
    "        self.layer3 = nn.Linear(3, 1)\n",
    "        \n",
    "    def forward(self, x):\n",
    "        \n",
    "        l1 = self.layer1(x)\n",
    "        l1 = F.relu(l1)\n",
    "        l2 = self.layer2(l1)\n",
    "        l2 = F.relu(l2)\n",
    "        l3 = self.layer3(l2)\n",
    "        \n",
    "        output = l3\n",
    "        \n",
    "        return output"
   ]
  },
  {
   "cell_type": "code",
   "execution_count": null,
   "id": "76622219",
   "metadata": {},
   "outputs": [],
   "source": [
    "### Usage of CPU or GPU\n",
    "\n",
    "device = 'cuda' if torch.cuda.is_available() else 'cpu'\n",
    "\n",
    "## Force Use a Device\n",
    "# device = 'cuda' #for GPU\n",
    "# device = 'cpu'  #for CPU\n",
    "\n",
    "print(f'Using {device} device')"
   ]
  },
  {
   "cell_type": "code",
   "execution_count": null,
   "id": "e35c3b49",
   "metadata": {},
   "outputs": [],
   "source": [
    "# Display the model\n",
    "model = NeuralNetwork().to(device)\n",
    "print(model)"
   ]
  },
  {
   "cell_type": "code",
   "execution_count": null,
   "id": "7dbbf924",
   "metadata": {},
   "outputs": [],
   "source": [
    "# Define Loss and Optimizer\n",
    "\n",
    "loss_function = nn.MSELoss()\n",
    "\n",
    "# Stocastic Gradient Descent\n",
    "#optimizer = torch.optim.SGD(model.parameters(), lr = 1e-2)\n",
    "\n",
    "# Adam\n",
    "optimizer = torch.optim.Adam(model.parameters(), lr = 1e-3)"
   ]
  },
  {
   "cell_type": "code",
   "execution_count": null,
   "id": "42881450",
   "metadata": {},
   "outputs": [],
   "source": [
    "# Learn\n",
    "\n",
    "epochs = 10\n",
    "batch_size = 32\n",
    "\n",
    "x_data_tensor = torch.tensor(x_data, device=device).float()\n",
    "y_data_tensor = torch.tensor(y_data, device=device).float()\n",
    "\n",
    "for epoch in range(1, epochs+1):\n",
    "    \n",
    "    print('epoch: ', epoch)\n",
    "\n",
    "    batch_start = 0\n",
    "    batch_end = batch_size\n",
    "    for i in tqdm(range(int(len(x_data_tensor)/batch_size))):\n",
    "        # Forward pass: Compute predicted y by passing x to the model\n",
    "\n",
    "        x_i, y_i = x_data_tensor[batch_start:batch_end], y_data_tensor[batch_start:batch_end]\n",
    "        batch_start = batch_end\n",
    "        batch_end = batch_end * 2\n",
    "\n",
    "        y_pred = model(x_i)\n",
    "\n",
    "        # Compute and print loss\n",
    "        loss = loss_function(y_pred.squeeze(), y_i).to(device)\n",
    "\n",
    "        # Zero gradients, perform a backward pass, and update the weights.\n",
    "        optimizer.zero_grad()\n",
    "\n",
    "        # perform a backward pass (backpropagation)\n",
    "        loss.backward()\n",
    "\n",
    "        # Update the parameters\n",
    "        optimizer.step()\n",
    "    \n",
    "    print('epoch: ', epoch,' loss: ', loss.item())\n",
    "    print()"
   ]
  },
  {
   "cell_type": "code",
   "execution_count": null,
   "id": "bb6a7937",
   "metadata": {},
   "outputs": [],
   "source": [
    "# Predict (compute) the output \n",
    "y_predicted = model(x_data_tensor)\n",
    "\n",
    "y_predicted = y_predicted.cpu().detach().numpy()"
   ]
  },
  {
   "cell_type": "code",
   "execution_count": null,
   "id": "6a2811bc",
   "metadata": {},
   "outputs": [],
   "source": [
    "# Plot the data\n",
    "fig = plt.figure(figsize=(20, 10))\n",
    "\n",
    "ax = fig.add_subplot(1, 2, 1, projection='3d')\n",
    "ax.scatter3D(x1_data, x2_data, y_data, label=\"actual\", c='b')\n",
    "plt.legend()\n",
    "\n",
    "ax = fig.add_subplot(1, 2, 2, projection='3d')\n",
    "ax.scatter3D(x1_data, x2_data, y_predicted, label=\"predicted\", c='r')\n",
    "plt.legend()\n",
    "\n",
    "plt.show()"
   ]
  }
 ],
 "metadata": {
  "kernelspec": {
   "display_name": "Python 3 (ipykernel)",
   "language": "python",
   "name": "python3"
  },
  "language_info": {
   "codemirror_mode": {
    "name": "ipython",
    "version": 3
   },
   "file_extension": ".py",
   "mimetype": "text/x-python",
   "name": "python",
   "nbconvert_exporter": "python",
   "pygments_lexer": "ipython3",
   "version": "3.9.7"
  }
 },
 "nbformat": 4,
 "nbformat_minor": 5
}
