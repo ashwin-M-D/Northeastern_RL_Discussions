{
  "nbformat": 4,
  "nbformat_minor": 0,
  "metadata": {
    "colab": {
      "name": "lunarlander_pytorch_DDQN",
      "provenance": [],
      "collapsed_sections": []
    },
    "kernelspec": {
      "name": "python3",
      "display_name": "Python 3"
    },
    "language_info": {
      "name": "python"
    }
  },
  "cells": [
    {
      "cell_type": "markdown",
      "source": [
        "# Lunar Lander Environment with pytorch\n",
        "\n",
        " Information regarding environment: https://gym.openai.com/envs/LunarLander-v2/\n",
        "\n",
        "\n",
        "Variables associated with the state space: \n",
        "- x coordinate of the lander\n",
        "- y coordinate of the lander\n",
        "- vx, the horizontal velocity\n",
        "- vy, the vertical velocity\n",
        "- θ, the orientation in space\n",
        "- vθ, the angular velocity\n",
        "- Left leg touching the ground (Boolean)\n",
        "- Right leg touching the ground (Boolean)\n"
      ],
      "metadata": {
        "id": "I26TL_diwynO"
      }
    },
    {
      "cell_type": "markdown",
      "source": [
        "## Importing libraries"
      ],
      "metadata": {
        "id": "_-EaBWDJyi4u"
      }
    },
    {
      "cell_type": "code",
      "source": [
        "# Installations for rendering\n",
        "!apt-get install x11-utils > /dev/null 2>&1 \n",
        "!pip install pyglet > /dev/null 2>&1 \n",
        "!apt-get install -y xvfb python-opengl > /dev/null 2>&1\n",
        "\n",
        "!pip install gym pyvirtualdisplay > /dev/null 2>&1"
      ],
      "metadata": {
        "id": "X_dnkVwFRxNy"
      },
      "execution_count": null,
      "outputs": []
    },
    {
      "cell_type": "code",
      "execution_count": null,
      "metadata": {
        "id": "OB8vPA3rwyLQ",
        "colab": {
          "base_uri": "https://localhost:8080/"
        },
        "outputId": "4b45e3e9-e2ff-45b3-eae0-ac0e3bc0115a"
      },
      "outputs": [
        {
          "output_type": "execute_result",
          "data": {
            "text/plain": [
              "<pyvirtualdisplay.display.Display at 0x7f2a71296750>"
            ]
          },
          "metadata": {},
          "execution_count": 2
        }
      ],
      "source": [
        "# General packages\n",
        "import numpy as np\n",
        "import pandas as pd\n",
        "from copy import deepcopy\n",
        "from tqdm.auto import tqdm\n",
        "import matplotlib.pyplot as plt\n",
        "from statistics import mean\n",
        "\n",
        "# Rendering\n",
        "from IPython import display as ipythondisplay\n",
        "from pyvirtualdisplay import Display\n",
        "display = Display(visible=0, size=(400, 300))\n",
        "display.start()"
      ]
    },
    {
      "cell_type": "code",
      "source": [
        "# Torch related\n",
        "import torch\n",
        "import torch.nn as nn\n",
        "import torch.nn.functional as F"
      ],
      "metadata": {
        "id": "sKWl1Ls1yJ6j"
      },
      "execution_count": null,
      "outputs": []
    },
    {
      "cell_type": "markdown",
      "source": [
        "## Build neural network"
      ],
      "metadata": {
        "id": "q35BFh6Uynle"
      }
    },
    {
      "cell_type": "code",
      "source": [
        "class NeuralNet(nn.Module):\n",
        "  def __init__(self, input_dims, n_actions):\n",
        "    \"\"\"\n",
        "    input_dims = input shape (number of features)\n",
        "    n_actions = number of neurons in output layer\n",
        "    \"\"\"\n",
        "    super(NeuralNet, self).__init__() # Importing all attributes from parent\n",
        "\n",
        "    self.layer1 = nn.Linear(input_dims, 32) # Simple linear network\n",
        "    self.layer2 = nn.Linear(32, 16)\n",
        "    self.layer3 = nn.Linear(16, n_actions)\n",
        "    self.activation = nn.ReLU()\n",
        "\n",
        "  def forward(self, x):\n",
        "    \"\"\"\n",
        "    To pass the results forward in the neural net\n",
        "    Args:\n",
        "      x: input data\n",
        "    \"\"\"\n",
        "    l1 = self.layer1(x)\n",
        "    l1_ =self.activation(l1)\n",
        "    l2 = self.layer2(l1_)\n",
        "    l2_ = self.activation(l2)\n",
        "    l3 = self.layer3(l2_)\n",
        "    return l3\n"
      ],
      "metadata": {
        "id": "v-qGvuBxyKc4"
      },
      "execution_count": null,
      "outputs": []
    },
    {
      "cell_type": "markdown",
      "source": [
        "## Replay memory"
      ],
      "metadata": {
        "id": "5blIg1Iv8ode"
      }
    },
    {
      "cell_type": "code",
      "source": [
        "class ReplayBuffer():\n",
        "  def __init__(self, mem_size, batch_size,input_dims):\n",
        "    \"\"\"\n",
        "    Initialization of replay buffer, creating different numpy arrays for each component\n",
        "    Input dims can be n-dimensional value\n",
        "    \"\"\"\n",
        "    self.mem_size = mem_size\n",
        "    self.batch_size = batch_size\n",
        "    self.mem_counter = 0 # memory counter\n",
        "    self.state_mem = np.zeros((self.mem_size, *input_dims), dtype=np.float32)\n",
        "    self.action_mem = np.zeros(self.mem_size, dtype=np.float32)\n",
        "    self.reward_mem = np.zeros(self.mem_size, dtype=np.float32)\n",
        "    self.next_state_mem = np.zeros((self.mem_size, *input_dims), dtype=np.float32)\n",
        "    self.terminal_mem = np.zeros(self.mem_size, dtype=np.float32) # done represents zero\n",
        "\n",
        "  def store_record(self, state, action, reward, state_, done):\n",
        "    \"\"\"\n",
        "    Stores the current values on the memory\n",
        "    \"\"\"\n",
        "    index = self.mem_counter % self.mem_size # once is full, it restores it\n",
        "    self.state_mem[index] = state\n",
        "    self.action_mem[index] = action\n",
        "    self.reward_mem[index] = reward\n",
        "    self.next_state_mem[index] = state_ # can also be named \"next_state\"\n",
        "    self.terminal_mem[index] = 1 - int(done) # change boolean to 1-0\n",
        "    self.mem_counter = self.mem_counter + 1\n",
        "  def is_sampleable(self):\n",
        "    \"\"\"\n",
        "    Tells if can be sampled\n",
        "    \"\"\"\n",
        "    if(self.mem_counter >= self.batch_size):\n",
        "      return True\n",
        "    else:\n",
        "      return False\n",
        "\n",
        "\n",
        "  def sample_buffer(self):\n",
        "    \"\"\"\n",
        "    Samples from buffer, do not sample any zeros\n",
        "    Output tuple with the sample\n",
        "    \"\"\"\n",
        "    if not(self.is_sampleable()):\n",
        "      return []\n",
        "\n",
        "    max_mem = min(self.mem_size, self.mem_counter) # make sure it does not sample zeros\n",
        "\n",
        "    \n",
        "    batch = np.random.choice(max_mem,\n",
        "                             self.batch_size, \n",
        "                             replace=False) # sampling, with no replace\n",
        "\n",
        "    states = self.state_mem[batch]\n",
        "    actions = self.action_mem[batch]\n",
        "    rewards = self.reward_mem[batch]\n",
        "    next_states = self.next_state_mem[batch]\n",
        "    terminals = self.terminal_mem[batch]\n",
        "\n",
        "    return states, actions, rewards, next_states, terminals\n",
        "\n"
      ],
      "metadata": {
        "id": "HJEIvrYz0zqV"
      },
      "execution_count": null,
      "outputs": []
    },
    {
      "cell_type": "markdown",
      "source": [
        "## Agent - DQN"
      ],
      "metadata": {
        "id": "gCZww6IL8q5q"
      }
    },
    {
      "cell_type": "code",
      "source": [
        "device = 'cuda' if torch.cuda.is_available() else 'cpu'"
      ],
      "metadata": {
        "id": "inNeI4EmROyU"
      },
      "execution_count": null,
      "outputs": []
    },
    {
      "cell_type": "code",
      "source": [
        "class dqn_agent():\n",
        "  def __init__(self, \n",
        "               input_dims, \n",
        "               n_actions,\n",
        "               epsilon_decay=(1-(1e-4)), # Number close to 1\n",
        "               gamma=0.99, \n",
        "               lr=1e-4, \n",
        "               mem_size=1024, \n",
        "               batch_size=64):\n",
        "    \"\"\"\n",
        "    DQN Agent\n",
        "    Args: \n",
        "      epsilon_decay: factor which is going to decay toward zero\n",
        "      gamma : discounted factor in Bellman equation \n",
        "      lr : learning rate\n",
        "      mem_size : memory size \n",
        "      batch_size : batch size, should be a power of 2\n",
        "    \"\"\"\n",
        "    self.input_dims = input_dims[0]\n",
        "    self.n_actions = n_actions\n",
        "\n",
        "    self.epsilon_decay = epsilon_decay\n",
        "    self.epsilon = 1\n",
        "\n",
        "    self.gamma = gamma\n",
        "    self.lr = lr\n",
        "\n",
        "    self.mem_size = mem_size\n",
        "    self.batch_size = batch_size\n",
        "\n",
        "    self.replay_mem = ReplayBuffer(mem_size = mem_size, \n",
        "                                   batch_size = batch_size, \n",
        "                                   input_dims = input_dims)\n",
        "    \n",
        "    self.policy_network = NeuralNet( input_dims = self.input_dims,\n",
        "                                  n_actions = n_actions).to(device)\n",
        "    self.loss_function = nn.MSELoss()\n",
        "    self.optimizer = torch.optim.Adam(self.policy_network.parameters(),\n",
        "                                      lr = lr)\n",
        "\n",
        "\n",
        "\n",
        "            \n",
        "    \n",
        "  def choose_action(self, obs):\n",
        "    \"\"\"\n",
        "    Agent to choose an action at any state\n",
        "    Arg: \n",
        "      obs: Is the state (features) \n",
        "\n",
        "    Returns: \n",
        "      action to take\n",
        "    \"\"\"\n",
        "    if(np.random.random() > self.epsilon):\n",
        "      obs_T = torch.tensor(obs, device = device).float()\n",
        "      with torch.no_grad(): # no_grad is to calculate the action first, means no gradient\n",
        "        q_values = self.policy_network(obs_T).cpu().detach().numpy() # only getting the q values \n",
        "        action = np.argmax(q_values)\n",
        "        # No replay memory because that is for training\n",
        "    else: # we want it to explore\n",
        "      action = np.random.randint(self.n_actions)\n",
        "    \n",
        "    return action\n",
        "\n",
        "  def store_mem(self, state, action, reward, state_, done):\n",
        "    \"\"\"\n",
        "    Stores in the memory \n",
        "    \"\"\"\n",
        "    self.replay_mem.store_record(state, action, reward, state_, done)\n",
        "\n",
        "  def train(self):\n",
        "    \"\"\"\n",
        "    Training with replay memory \n",
        "    \"\"\"\n",
        "    if not(self.replay_mem.is_sampleable()):\n",
        "      return np.nan # if not sampleable, don't train and return nan loss\n",
        "    \n",
        "    states, actions, rewards, next_states, dones = self.replay_mem.sample_buffer()\n",
        "\n",
        "    states_T = torch.tensor(states, device = device).float()\n",
        "    actions_T = torch.tensor(actions, device = device).type(torch.int64).unsqueeze(1) # unsqueeze converts into higher dimension, this we only use it as a key\n",
        "    rewards_T = torch.tensor(rewards, device = device).float()\n",
        "    next_states_T = torch.tensor(next_states, device = device).float()\n",
        "    dones_T = torch.tensor(dones, device = device).type(torch.int64)\n",
        "\n",
        "    q_values = self.policy_network(states_T).gather(1, actions_T).squeeze(1) # gathering q values from the network for that action\n",
        "\n",
        "    with torch.no_grad():\n",
        "      q_values_next = self.policy_network(next_states_T).max(1)[0].detach() # max q value\n",
        "\n",
        "    q_target_values = rewards_T + self.gamma * q_values_next * dones\n",
        "\n",
        "    loss = self.loss_function(q_values, q_target_values)\n",
        "\n",
        "    self.optimizer.zero_grad()\n",
        "    loss.backward()\n",
        "    self.optimizer.step()\n",
        "\n",
        "    self.epsilon = self.epsilon * self.epsilon_decay\n",
        "\n",
        "    return loss.item() # loss.item is just the value\n",
        "\n",
        "\n",
        "\n",
        "    \n",
        "\n",
        "\n"
      ],
      "metadata": {
        "id": "W2mG0TNy8thV"
      },
      "execution_count": null,
      "outputs": []
    },
    {
      "cell_type": "markdown",
      "source": [
        "Parameters"
      ],
      "metadata": {
        "id": "n2z5vNaBAaTk"
      }
    },
    {
      "cell_type": "code",
      "source": [
        "\n",
        "lr = 1e-4\n",
        "gamma = 0.99\n",
        "epsilon_decay = 1- (3e-5)\n",
        "\n",
        "episodes = 700\n",
        "\n",
        "mem_size = 10000\n",
        "batch_size = 64\n"
      ],
      "metadata": {
        "id": "TFdPyfmaQ9fH"
      },
      "execution_count": null,
      "outputs": []
    },
    {
      "cell_type": "markdown",
      "source": [
        "## Environment"
      ],
      "metadata": {
        "id": "OfA92m2K8ttG"
      }
    },
    {
      "cell_type": "code",
      "source": [
        "!pip3 install box2d-py\n",
        "!pip3 install gym[Box_2D]\n",
        "import gym\n",
        "env = gym.make(\"LunarLander-v2\")"
      ],
      "metadata": {
        "colab": {
          "base_uri": "https://localhost:8080/"
        },
        "id": "mTgNKiteRkXI",
        "outputId": "85f39e01-8f1d-4700-c697-24ace543f792"
      },
      "execution_count": null,
      "outputs": [
        {
          "output_type": "stream",
          "name": "stdout",
          "text": [
            "Collecting box2d-py\n",
            "  Downloading box2d_py-2.3.8-cp37-cp37m-manylinux1_x86_64.whl (448 kB)\n",
            "\u001b[?25l\r\u001b[K     |▊                               | 10 kB 20.5 MB/s eta 0:00:01\r\u001b[K     |█▌                              | 20 kB 10.2 MB/s eta 0:00:01\r\u001b[K     |██▏                             | 30 kB 8.5 MB/s eta 0:00:01\r\u001b[K     |███                             | 40 kB 7.9 MB/s eta 0:00:01\r\u001b[K     |███▋                            | 51 kB 6.1 MB/s eta 0:00:01\r\u001b[K     |████▍                           | 61 kB 7.2 MB/s eta 0:00:01\r\u001b[K     |█████▏                          | 71 kB 7.2 MB/s eta 0:00:01\r\u001b[K     |█████▉                          | 81 kB 6.5 MB/s eta 0:00:01\r\u001b[K     |██████▋                         | 92 kB 7.2 MB/s eta 0:00:01\r\u001b[K     |███████▎                        | 102 kB 7.4 MB/s eta 0:00:01\r\u001b[K     |████████                        | 112 kB 7.4 MB/s eta 0:00:01\r\u001b[K     |████████▊                       | 122 kB 7.4 MB/s eta 0:00:01\r\u001b[K     |█████████▌                      | 133 kB 7.4 MB/s eta 0:00:01\r\u001b[K     |██████████▎                     | 143 kB 7.4 MB/s eta 0:00:01\r\u001b[K     |███████████                     | 153 kB 7.4 MB/s eta 0:00:01\r\u001b[K     |███████████▊                    | 163 kB 7.4 MB/s eta 0:00:01\r\u001b[K     |████████████▍                   | 174 kB 7.4 MB/s eta 0:00:01\r\u001b[K     |█████████████▏                  | 184 kB 7.4 MB/s eta 0:00:01\r\u001b[K     |█████████████▉                  | 194 kB 7.4 MB/s eta 0:00:01\r\u001b[K     |██████████████▋                 | 204 kB 7.4 MB/s eta 0:00:01\r\u001b[K     |███████████████▍                | 215 kB 7.4 MB/s eta 0:00:01\r\u001b[K     |████████████████                | 225 kB 7.4 MB/s eta 0:00:01\r\u001b[K     |████████████████▉               | 235 kB 7.4 MB/s eta 0:00:01\r\u001b[K     |█████████████████▌              | 245 kB 7.4 MB/s eta 0:00:01\r\u001b[K     |██████████████████▎             | 256 kB 7.4 MB/s eta 0:00:01\r\u001b[K     |███████████████████             | 266 kB 7.4 MB/s eta 0:00:01\r\u001b[K     |███████████████████▊            | 276 kB 7.4 MB/s eta 0:00:01\r\u001b[K     |████████████████████▌           | 286 kB 7.4 MB/s eta 0:00:01\r\u001b[K     |█████████████████████▏          | 296 kB 7.4 MB/s eta 0:00:01\r\u001b[K     |██████████████████████          | 307 kB 7.4 MB/s eta 0:00:01\r\u001b[K     |██████████████████████▋         | 317 kB 7.4 MB/s eta 0:00:01\r\u001b[K     |███████████████████████▍        | 327 kB 7.4 MB/s eta 0:00:01\r\u001b[K     |████████████████████████        | 337 kB 7.4 MB/s eta 0:00:01\r\u001b[K     |████████████████████████▉       | 348 kB 7.4 MB/s eta 0:00:01\r\u001b[K     |█████████████████████████▋      | 358 kB 7.4 MB/s eta 0:00:01\r\u001b[K     |██████████████████████████▎     | 368 kB 7.4 MB/s eta 0:00:01\r\u001b[K     |███████████████████████████     | 378 kB 7.4 MB/s eta 0:00:01\r\u001b[K     |███████████████████████████▊    | 389 kB 7.4 MB/s eta 0:00:01\r\u001b[K     |████████████████████████████▌   | 399 kB 7.4 MB/s eta 0:00:01\r\u001b[K     |█████████████████████████████▏  | 409 kB 7.4 MB/s eta 0:00:01\r\u001b[K     |██████████████████████████████  | 419 kB 7.4 MB/s eta 0:00:01\r\u001b[K     |██████████████████████████████▊ | 430 kB 7.4 MB/s eta 0:00:01\r\u001b[K     |███████████████████████████████▍| 440 kB 7.4 MB/s eta 0:00:01\r\u001b[K     |████████████████████████████████| 448 kB 7.4 MB/s \n",
            "\u001b[?25hInstalling collected packages: box2d-py\n",
            "Successfully installed box2d-py-2.3.8\n",
            "Requirement already satisfied: gym[Box_2D] in /usr/local/lib/python3.7/dist-packages (0.17.3)\n",
            "\u001b[33mWARNING: gym 0.17.3 does not provide the extra 'box_2d'\u001b[0m\n",
            "Requirement already satisfied: cloudpickle<1.7.0,>=1.2.0 in /usr/local/lib/python3.7/dist-packages (from gym[Box_2D]) (1.3.0)\n",
            "Requirement already satisfied: scipy in /usr/local/lib/python3.7/dist-packages (from gym[Box_2D]) (1.4.1)\n",
            "Requirement already satisfied: pyglet<=1.5.0,>=1.4.0 in /usr/local/lib/python3.7/dist-packages (from gym[Box_2D]) (1.5.0)\n",
            "Requirement already satisfied: numpy>=1.10.4 in /usr/local/lib/python3.7/dist-packages (from gym[Box_2D]) (1.21.5)\n",
            "Requirement already satisfied: future in /usr/local/lib/python3.7/dist-packages (from pyglet<=1.5.0,>=1.4.0->gym[Box_2D]) (0.16.0)\n"
          ]
        }
      ]
    },
    {
      "cell_type": "code",
      "source": [
        ""
      ],
      "metadata": {
        "id": "h6T01opy8Kzz"
      },
      "execution_count": null,
      "outputs": []
    },
    {
      "cell_type": "markdown",
      "source": [
        "## Training"
      ],
      "metadata": {
        "id": "mGNCt3AM8La-"
      }
    },
    {
      "cell_type": "code",
      "source": [
        "agent = dqn_agent(input_dims=env.observation_space.shape, \n",
        "                  n_actions=env.action_space.n, \n",
        "                  epsilon_decay=epsilon_decay, \n",
        "                  gamma = gamma,\n",
        "                  lr = lr,\n",
        "                  mem_size = mem_size, \n",
        "                  batch_size = batch_size\n",
        "                  )"
      ],
      "metadata": {
        "id": "3eElUIv2SQqW"
      },
      "execution_count": null,
      "outputs": []
    },
    {
      "cell_type": "code",
      "source": [
        "scores = []\n",
        "eps = []\n",
        "losses = []"
      ],
      "metadata": {
        "id": "8zVBWeg4Tfkn"
      },
      "execution_count": null,
      "outputs": []
    },
    {
      "cell_type": "code",
      "source": [
        "pbar = tqdm(range(episodes))\n",
        "\n",
        "for i in pbar: \n",
        "  done = False\n",
        "  score = 0\n",
        "  state = env.reset()\n",
        "  ep_loss = []\n",
        "  prev_screen = env.render(mode='rgb_array')\n",
        "  plt.imshow(prev_screen)\n",
        "\n",
        "  while not(done):\n",
        "    # Agent chooses action\n",
        "    action = agent.choose_action(state)\n",
        "    \n",
        "    # Environment's new state, reward and others\n",
        "    new_state, reward, done, _ = env.step(action) #\"_\" is info to debug\n",
        "\n",
        "    # Rendering\n",
        "    screen = env.render(mode='rgb_array')\n",
        "\n",
        "    plt.imshow(screen)\n",
        "    ipythondisplay.clear_output(wait=True)\n",
        "    ipythondisplay.display(plt.gcf())\n",
        "\n",
        "\n",
        "    score = score + reward\n",
        "\n",
        "    # Store record in memory\n",
        "    agent.store_mem(state, action, reward, new_state, done)\n",
        "\n",
        "    # Copy of state\n",
        "    state = deepcopy(new_state)\n",
        "\n",
        "    # Keep track of loss\n",
        "    loss = agent.train()\n",
        "    ep_loss.append(loss) # episode loss\n",
        "  \n",
        "  # At the end of episode, do the following: \n",
        "  scores.append(score)\n",
        "  eps.append(agent.epsilon)\n",
        "  losses.append(mean(ep_loss))\n",
        "  pbar.set_description(\"current score = %s\" % score)\n",
        "\n",
        "ipythondisplay.clear_output(wait=True)\n",
        "env.close()\n"
      ],
      "metadata": {
        "colab": {
          "base_uri": "https://localhost:8080/",
          "height": 269
        },
        "id": "QIap7pPsTkz9",
        "outputId": "88f07a7a-afda-4289-8801-3c5f922420e0"
      },
      "execution_count": null,
      "outputs": [
        {
          "output_type": "display_data",
          "data": {
            "image/png": "[encoded data removed]",
            "text/plain": [
              "<Figure size 432x288 with 1 Axes>"
            ]
          },
          "metadata": {}
        }
      ]
    },
    {
      "cell_type": "markdown",
      "source": [
        "## Agent - DDQN"
      ],
      "metadata": {
        "id": "3V_aKrTP8y09"
      }
    }
  ]
}